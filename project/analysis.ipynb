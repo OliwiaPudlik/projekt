{
 "cells": [
  {
   "cell_type": "code",
   "execution_count": 71,
   "id": "ad849d9c-15ab-434b-9411-e4f847e4290d",
   "metadata": {},
   "outputs": [],
   "source": [
    "import os\n",
    "import pandas as pd\n",
    "import numpy as np\n",
    "import pyspark\n",
    "from pyspark.sql import SparkSession\n",
    "from pyspark.sql import SQLContext\n",
    "from pyspark.sql.functions import *"
   ]
  },
  {
   "cell_type": "code",
   "execution_count": 2,
   "id": "ac02e67e-9fff-4d9c-be62-865f8dca94f4",
   "metadata": {},
   "outputs": [],
   "source": [
    "spark = SparkSession.builder.appName(\"stream\").getOrCreate()\n",
    "spark.sparkContext.setLogLevel(\"ERROR\")"
   ]
  },
  {
   "cell_type": "code",
   "execution_count": 39,
   "id": "ea0d42d9-dbdc-4c80-a548-5f0a26d9c111",
   "metadata": {},
   "outputs": [],
   "source": [
    "covid = spark.read.csv('covid.csv', sep=';',inferSchema=True, header=True)"
   ]
  },
  {
   "cell_type": "code",
   "execution_count": 40,
   "id": "ff163e3b-6f75-43fb-8f1a-6532d98a0365",
   "metadata": {},
   "outputs": [],
   "source": [
    "for_sql = spark.read.option('header',True).csv('covid.csv').createOrReplaceTempView('covid2')"
   ]
  },
  {
   "cell_type": "code",
   "execution_count": 41,
   "id": "bb9752b3-20dd-4635-bf4a-8aebaf82dbf9",
   "metadata": {},
   "outputs": [
    {
     "data": {
      "text/plain": [
       "DataFrame[iso_code: string, continent: string, location: string, date: string, total_cases: double, new_cases: double, new_cases_smoothed: double, total_deaths: double, new_deaths: double, new_deaths_smoothed: double, total_cases_per_million: double, new_cases_per_million: string, new_cases_smoothed_per_million: string, total_deaths_per_million: string, new_deaths_per_million: string, new_deaths_smoothed_per_million: string, reproduction_rate: string, icu_patients: double, icu_patients_per_million: string, hosp_patients: double, hosp_patients_per_million: string, weekly_icu_admissions: double, weekly_icu_admissions_per_million: string, weekly_hosp_admissions: double, weekly_hosp_admissions_per_million: string, total_tests: double, new_tests: double, total_tests_per_thousand: string, new_tests_per_thousand: string, new_tests_smoothed: double, new_tests_smoothed_per_thousand: string, positive_rate: double, tests_per_case: string, tests_units: string, total_vaccinations: double, people_vaccinated: double, people_fully_vaccinated: double, total_boosters: double, new_vaccinations: double, new_vaccinations_smoothed: double, total_vaccinations_per_hundred: string, people_vaccinated_per_hundred: string, people_fully_vaccinated_per_hundred: string, total_boosters_per_hundred: string, new_vaccinations_smoothed_per_million: double, new_people_vaccinated_smoothed: double, new_people_vaccinated_smoothed_per_hundred: string, stringency_index: string, population_density: string, median_age: string, aged_65_older: string, aged_70_older: string, gdp_per_capita: double, extreme_poverty: string, cardiovasc_death_rate: double, diabetes_prevalence: string, female_smokers: string, male_smokers: string, handwashing_facilities: string, hospital_beds_per_thousand: string, life_expectancy: double, human_development_index: double, population: double, excess_mortality_cumulative_absolute: string, excess_mortality_cumulative: string, excess_mortality: string, excess_mortality_cumulative_per_million: double]"
      ]
     },
     "execution_count": 41,
     "metadata": {},
     "output_type": "execute_result"
    }
   ],
   "source": [
    "covid"
   ]
  },
  {
   "cell_type": "code",
   "execution_count": 6,
   "id": "5f2f1dd9-6245-4dbb-8940-90254c9a4fc2",
   "metadata": {},
   "outputs": [
    {
     "name": "stdout",
     "output_type": "stream",
     "text": [
      "+-----------+\n",
      "|   location|\n",
      "+-----------+\n",
      "|Afghanistan|\n",
      "|Afghanistan|\n",
      "|Afghanistan|\n",
      "|Afghanistan|\n",
      "|Afghanistan|\n",
      "|Afghanistan|\n",
      "|Afghanistan|\n",
      "|Afghanistan|\n",
      "|Afghanistan|\n",
      "|Afghanistan|\n",
      "|Afghanistan|\n",
      "|Afghanistan|\n",
      "|Afghanistan|\n",
      "|Afghanistan|\n",
      "|Afghanistan|\n",
      "|Afghanistan|\n",
      "|Afghanistan|\n",
      "|Afghanistan|\n",
      "|Afghanistan|\n",
      "|Afghanistan|\n",
      "+-----------+\n",
      "only showing top 20 rows\n",
      "\n"
     ]
    }
   ],
   "source": [
    "covid.select('location').show()"
   ]
  },
  {
   "cell_type": "markdown",
   "id": "9b19efff-601c-4e1e-a48e-cd2b7b53167c",
   "metadata": {},
   "source": [
    "#### Group by continent"
   ]
  },
  {
   "cell_type": "code",
   "execution_count": 7,
   "id": "4b885809-c588-4244-8f28-03cee133f8ff",
   "metadata": {},
   "outputs": [
    {
     "name": "stdout",
     "output_type": "stream",
     "text": [
      "+-------------+-----+\n",
      "|    continent|count|\n",
      "+-------------+-----+\n",
      "|       Europe|11770|\n",
      "|       Africa|11770|\n",
      "|         null| 2782|\n",
      "|North America| 7918|\n",
      "|South America| 2782|\n",
      "|      Oceania| 4759|\n",
      "|         Asia|10914|\n",
      "+-------------+-----+\n",
      "\n"
     ]
    }
   ],
   "source": [
    "continents = covid.groupBy('continent').count()\n",
    "continents.show()"
   ]
  },
  {
   "cell_type": "markdown",
   "id": "796f37a2-965d-46a2-8b0d-2cb6442b6f88",
   "metadata": {},
   "source": [
    "#### Extracting data for Europe"
   ]
  },
  {
   "cell_type": "code",
   "execution_count": 8,
   "id": "0ca6d0dc-6e3f-4f8b-8af6-d6f6dab17899",
   "metadata": {},
   "outputs": [
    {
     "data": {
      "text/plain": [
       "11770"
      ]
     },
     "execution_count": 8,
     "metadata": {},
     "output_type": "execute_result"
    }
   ],
   "source": [
    "europe = covid.filter(col('continent') == 'Europe')\n",
    "europe.count()"
   ]
  },
  {
   "cell_type": "markdown",
   "id": "402c7175-b350-4e14-8978-78a800e30cf5",
   "metadata": {},
   "source": [
    "#### Extracting data for Asia"
   ]
  },
  {
   "cell_type": "code",
   "execution_count": 96,
   "id": "3ea516c2-d1aa-433f-90bb-0e049ebd0d93",
   "metadata": {},
   "outputs": [
    {
     "data": {
      "text/plain": [
       "10914"
      ]
     },
     "execution_count": 96,
     "metadata": {},
     "output_type": "execute_result"
    }
   ],
   "source": [
    "asia = covid.filter(col('continent') == 'Asia')\n",
    "asia.count()"
   ]
  },
  {
   "cell_type": "markdown",
   "id": "af1b1bde-8a93-41ee-970a-163ea87c0074",
   "metadata": {},
   "source": [
    "#### Show avg number of new cases from June 2021 - December 2021 in Europe"
   ]
  },
  {
   "cell_type": "code",
   "execution_count": 97,
   "id": "b6720ed5-44d2-4cc6-ad72-9143c7ced36c",
   "metadata": {},
   "outputs": [
    {
     "name": "stdout",
     "output_type": "stream",
     "text": [
      "+------------------+\n",
      "|    avg(new_cases)|\n",
      "+------------------+\n",
      "|3943.2531247018414|\n",
      "+------------------+\n",
      "\n"
     ]
    }
   ],
   "source": [
    "europe.select(avg('new_cases')).show()"
   ]
  },
  {
   "cell_type": "code",
   "execution_count": 98,
   "id": "0bfd94fb-a503-4a47-89d8-81c6f56797e5",
   "metadata": {},
   "outputs": [
    {
     "name": "stdout",
     "output_type": "stream",
     "text": [
      "+--------------------+---------------+\n",
      "|            location|total_cases_sum|\n",
      "+--------------------+---------------+\n",
      "|             Belgium|   2.85802476E8|\n",
      "|             Albania|    3.4800192E7|\n",
      "|             Belarus|    1.1286723E8|\n",
      "|             Croatia|    9.5219245E7|\n",
      "|             Andorra|      3359930.0|\n",
      "|             Czechia|   3.88283214E8|\n",
      "|             Denmark|    8.2310132E7|\n",
      "|              Cyprus|    2.4118094E7|\n",
      "|Bosnia and Herzeg...|    5.0000976E7|\n",
      "|            Bulgaria|   1.12641046E8|\n",
      "|             Austria|   1.72615342E8|\n",
      "|              Jersey|           null|\n",
      "|             Germany|   9.62817071E8|\n",
      "|              France|   1.47750814E9|\n",
      "|              Greece|    1.4084059E8|\n",
      "|              Kosovo|     2.983407E7|\n",
      "|             Finland|    3.0297431E7|\n",
      "|            Guernsey|           null|\n",
      "|         Isle of Man|      1498997.0|\n",
      "|               Italy|   9.96233156E8|\n",
      "+--------------------+---------------+\n",
      "only showing top 20 rows\n",
      "\n"
     ]
    }
   ],
   "source": [
    "t_cases_europe = europe.groupby('location').agg(sum('total_cases').alias('total_cases_sum'))\n",
    "t_cases_europe.show()"
   ]
  },
  {
   "cell_type": "code",
   "execution_count": 99,
   "id": "7c431c70-3ed1-479a-9326-c4d70da6b4fb",
   "metadata": {},
   "outputs": [
    {
     "name": "stdout",
     "output_type": "stream",
     "text": [
      "+--------------+---------------+\n",
      "|      location|total_cases_sum|\n",
      "+--------------+---------------+\n",
      "|United Kingdom|  1.619123749E9|\n",
      "|        Russia|  1.573120097E9|\n",
      "|        France|   1.47750814E9|\n",
      "|         Spain|  1.010464279E9|\n",
      "|         Italy|   9.96233156E8|\n",
      "|       Germany|   9.62817071E8|\n",
      "|        Poland|   6.61171393E8|\n",
      "|       Ukraine|   5.90001419E8|\n",
      "|   Netherlands|   4.50591578E8|\n",
      "|       Czechia|   3.88283214E8|\n",
      "|       Romania|   2.86600834E8|\n",
      "|       Belgium|   2.85802476E8|\n",
      "|        Sweden|    2.4546081E8|\n",
      "|      Portugal|   2.22233108E8|\n",
      "|        Serbia|   2.00326746E8|\n",
      "|      Slovakia|   1.92099349E8|\n",
      "|       Hungary|   1.91250969E8|\n",
      "|   Switzerland|   1.80929305E8|\n",
      "|       Austria|   1.72615342E8|\n",
      "|        Greece|    1.4084059E8|\n",
      "+--------------+---------------+\n",
      "only showing top 20 rows\n",
      "\n"
     ]
    }
   ],
   "source": [
    "sorted_t_cases_europe = t_cases.select('location','total_cases_sum').orderBy('total_cases_sum', ascending = False)\n",
    "sorted_t_cases_europe.show()"
   ]
  },
  {
   "cell_type": "markdown",
   "id": "ba439b88-3b89-4a54-a707-81d6c6b30bf5",
   "metadata": {},
   "source": [
    "#### Show avg number of new cases from June 2021 - December 2021 in Asia"
   ]
  },
  {
   "cell_type": "code",
   "execution_count": 100,
   "id": "a2f865f7-c5a4-4877-b5a7-0736399b2bcd",
   "metadata": {},
   "outputs": [
    {
     "name": "stdout",
     "output_type": "stream",
     "text": [
      "+------------------+\n",
      "|    avg(new_cases)|\n",
      "+------------------+\n",
      "|3284.9509059029806|\n",
      "+------------------+\n",
      "\n"
     ]
    }
   ],
   "source": [
    "asia.select(avg('new_cases')).show()"
   ]
  },
  {
   "cell_type": "code",
   "execution_count": 101,
   "id": "780373ae-5611-482d-801e-45255e651faa",
   "metadata": {},
   "outputs": [
    {
     "name": "stdout",
     "output_type": "stream",
     "text": [
      "+-----------+---------------+\n",
      "|   location|total_cases_sum|\n",
      "+-----------+---------------+\n",
      "|Afghanistan|    3.0831741E7|\n",
      "|   Cambodia|    1.9860492E7|\n",
      "|      China|    2.2810823E7|\n",
      "| Bangladesh|   2.93199187E8|\n",
      "|     Bhutan|       528293.0|\n",
      "| Azerbaijan|    9.7340286E7|\n",
      "|    Armenia|    5.7813011E7|\n",
      "|     Brunei|      1417798.0|\n",
      "|    Bahrain|    5.8182997E7|\n",
      "|       Iraq|   3.87627555E8|\n",
      "|     Jordan|   1.79304519E8|\n",
      "|      India|  7.016140517E9|\n",
      "|     Kuwait|    8.4716886E7|\n",
      "|       Iran|   1.05013922E9|\n",
      "|       Laos|      6646227.0|\n",
      "|  Hong Kong|      2605801.0|\n",
      "|     Israel|   2.40009265E8|\n",
      "|    Georgia|   1.27268874E8|\n",
      "|  Indonesia|   7.79570564E8|\n",
      "| Kyrgyzstan|    3.5294482E7|\n",
      "+-----------+---------------+\n",
      "only showing top 20 rows\n",
      "\n"
     ]
    }
   ],
   "source": [
    "t_cases_asia = asia.groupby('location').agg(sum('total_cases').alias('total_cases_sum'))\n",
    "t_cases_asia.show()"
   ]
  },
  {
   "cell_type": "code",
   "execution_count": 103,
   "id": "d6b711a7-5bff-4bb3-9cdf-f6ad392aef10",
   "metadata": {},
   "outputs": [
    {
     "name": "stdout",
     "output_type": "stream",
     "text": [
      "+--------------------+---------------+\n",
      "|            location|total_cases_sum|\n",
      "+--------------------+---------------+\n",
      "|               India|  7.016140517E9|\n",
      "|              Turkey|  1.495669191E9|\n",
      "|                Iran|   1.05013922E9|\n",
      "|           Indonesia|   7.79570564E8|\n",
      "|         Philippines|   4.65841792E8|\n",
      "|                Iraq|   3.87627555E8|\n",
      "|            Malaysia|   3.87450342E8|\n",
      "|               Japan|   2.94283706E8|\n",
      "|          Bangladesh|   2.93199187E8|\n",
      "|            Thailand|   2.72882453E8|\n",
      "|            Pakistan|   2.47161525E8|\n",
      "|              Israel|   2.40009265E8|\n",
      "|              Jordan|   1.79304519E8|\n",
      "|          Kazakhstan|   1.77236573E8|\n",
      "|               Nepal|   1.60128081E8|\n",
      "|United Arab Emirates|   1.50382024E8|\n",
      "|             Vietnam|   1.35128123E8|\n",
      "|             Lebanon|   1.30758781E8|\n",
      "|             Georgia|   1.27268874E8|\n",
      "|        Saudi Arabia|   1.13359431E8|\n",
      "+--------------------+---------------+\n",
      "only showing top 20 rows\n",
      "\n"
     ]
    }
   ],
   "source": [
    "sorted_t_cases_asia = t_cases_asia.select('location','total_cases_sum').orderBy('total_cases_sum', ascending = False)\n",
    "sorted_t_cases_asia.show()"
   ]
  },
  {
   "cell_type": "markdown",
   "id": "38037e1c-b3af-4013-b858-b8e8150de655",
   "metadata": {},
   "source": [
    "#### Correlation between"
   ]
  },
  {
   "cell_type": "code",
   "execution_count": 74,
   "id": "05619a19-0453-467b-a106-a278e4404edf",
   "metadata": {},
   "outputs": [],
   "source": [
    "data = covid.select('location','new_vaccinations','new_cases').filter((col('location') == 'Poland'))"
   ]
  },
  {
   "cell_type": "code",
   "execution_count": 90,
   "id": "8a76e7e8-3340-41c6-b147-fc43509fa360",
   "metadata": {},
   "outputs": [],
   "source": [
    "data2 = covid.select('location','new_vaccinations','new_cases').filter((col('location') == 'Germany'))"
   ]
  },
  {
   "cell_type": "code",
   "execution_count": 91,
   "id": "e2669c07-96a9-4606-917b-e201098ee373",
   "metadata": {},
   "outputs": [
    {
     "name": "stdout",
     "output_type": "stream",
     "text": [
      "+--------+----------------+---------+\n",
      "|location|new_vaccinations|new_cases|\n",
      "+--------+----------------+---------+\n",
      "|  Poland|        451423.0|    585.0|\n",
      "|  Poland|        638504.0|    659.0|\n",
      "|  Poland|        152450.0|    565.0|\n",
      "|  Poland|        426942.0|    319.0|\n",
      "|  Poland|        271933.0|    413.0|\n",
      "|  Poland|        108491.0|    312.0|\n",
      "|  Poland|        206262.0|    192.0|\n",
      "|  Poland|        396464.0|    401.0|\n",
      "|  Poland|        503054.0|    560.0|\n",
      "|  Poland|        388308.0|    378.0|\n",
      "|  Poland|        417376.0|    340.0|\n",
      "|  Poland|        314955.0|    236.0|\n",
      "|  Poland|        109520.0|    226.0|\n",
      "|  Poland|        217328.0|    139.0|\n",
      "|  Poland|            null|    211.0|\n",
      "|  Poland|            null|    242.0|\n",
      "|  Poland|        401483.0|    215.0|\n",
      "|  Poland|        322386.0|    190.0|\n",
      "|  Poland|        215615.0|    168.0|\n",
      "|  Poland|         72093.0|    133.0|\n",
      "+--------+----------------+---------+\n",
      "only showing top 20 rows\n",
      "\n"
     ]
    }
   ],
   "source": [
    "data.show()"
   ]
  },
  {
   "cell_type": "code",
   "execution_count": 92,
   "id": "d7d1a590-e62f-471b-b354-2164735b4f02",
   "metadata": {},
   "outputs": [],
   "source": [
    "corr = data.stat.corr('new_vaccinations','new_cases')"
   ]
  },
  {
   "cell_type": "code",
   "execution_count": 93,
   "id": "7be177bc-91e9-40ff-b255-b029f5a04fcc",
   "metadata": {},
   "outputs": [
    {
     "data": {
      "text/plain": [
       "-0.07256321751110345"
      ]
     },
     "execution_count": 93,
     "metadata": {},
     "output_type": "execute_result"
    }
   ],
   "source": [
    "corr"
   ]
  },
  {
   "cell_type": "code",
   "execution_count": 94,
   "id": "8a7f58f8-fe9c-4406-9ede-5883dd8df3fb",
   "metadata": {},
   "outputs": [],
   "source": [
    "corr2 = data2.stat.corr('new_vaccinations','new_cases')"
   ]
  },
  {
   "cell_type": "code",
   "execution_count": 95,
   "id": "a1a04e8b-bcbe-487c-ba26-86873a8c2e63",
   "metadata": {},
   "outputs": [
    {
     "data": {
      "text/plain": [
       "0.284041836339982"
      ]
     },
     "execution_count": 95,
     "metadata": {},
     "output_type": "execute_result"
    }
   ],
   "source": [
    "corr2"
   ]
  },
  {
   "cell_type": "markdown",
   "id": "66c13083-6373-4b62-be87-c68b51b7e5f1",
   "metadata": {},
   "source": [
    "For Poland, the correlation coefficient of -0.072 indicates a weak negative relationship between 'new_vaccinations' and 'new_cases'. This means that in Poland, there is a slight tendency for the number of new cases to decrease slightly as the number of new vaccinations increases. However, this relationship is very weak and almost negligible.\n",
    "\n",
    "For Germany, the correlation coefficient of 0.28 indicates a moderate positive relationship between 'new_vaccinations' and 'new_cases'. This suggests that in Germany, there is a tendency for the number of new cases to increase as the number of new vaccinations increases. However, this relationship is moderate and may be influenced by other factors."
   ]
  },
  {
   "cell_type": "code",
   "execution_count": null,
   "id": "39d93de8-44b3-419b-94e2-74dcea92262e",
   "metadata": {},
   "outputs": [],
   "source": []
  }
 ],
 "metadata": {
  "kernelspec": {
   "display_name": "Python 3 (ipykernel)",
   "language": "python",
   "name": "python3"
  },
  "language_info": {
   "codemirror_mode": {
    "name": "ipython",
    "version": 3
   },
   "file_extension": ".py",
   "mimetype": "text/x-python",
   "name": "python",
   "nbconvert_exporter": "python",
   "pygments_lexer": "ipython3",
   "version": "3.11.3"
  }
 },
 "nbformat": 4,
 "nbformat_minor": 5
}
